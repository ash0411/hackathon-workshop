{
  "nbformat": 4,
  "nbformat_minor": 0,
  "metadata": {
    "colab": {
      "name": "Untitled5.ipynb",
      "provenance": [],
      "authorship_tag": "ABX9TyNTB9+HBmqGrTZcx3rY0K+9",
      "include_colab_link": true
    },
    "kernelspec": {
      "name": "python3",
      "display_name": "Python 3"
    }
  },
  "cells": [
    {
      "cell_type": "markdown",
      "metadata": {
        "id": "view-in-github",
        "colab_type": "text"
      },
      "source": [
        "<a href=\"https://colab.research.google.com/github/ash0411/hackathon-workshop/blob/master/Untitled5.ipynb\" target=\"_parent\"><img src=\"https://colab.research.google.com/assets/colab-badge.svg\" alt=\"Open In Colab\"/></a>"
      ]
    },
    {
      "cell_type": "code",
      "metadata": {
        "id": "7VnT2w5FBAuY",
        "colab_type": "code",
        "colab": {}
      },
      "source": [
        "import tweepy"
      ],
      "execution_count": 0,
      "outputs": []
    },
    {
      "cell_type": "code",
      "metadata": {
        "id": "SqzFOlecEbi8",
        "colab_type": "code",
        "colab": {}
      },
      "source": [
        "consumer_key = ''\n",
        "consumer_sec = ' '\n",
        "access_key = ' '\n",
        "access_sec = ' '\n",
        "first_auth = tweepy.OAuthHandler(consumer_key,consumer_sec)\n",
        "first_auth.set_access_token(access_key,access_sec)\n",
        "storage_api_connect = tweepy.API(first_auth)# after this step we can browse/search data"
      ],
      "execution_count": 0,
      "outputs": []
    },
    {
      "cell_type": "code",
      "metadata": {
        "id": "TO7-1yrmEgyM",
        "colab_type": "code",
        "colab": {}
      },
      "source": [
        "from textblob import TextBlob"
      ],
      "execution_count": 0,
      "outputs": []
    },
    {
      "cell_type": "code",
      "metadata": {
        "id": "2r2dgFIkEzhc",
        "colab_type": "code",
        "colab": {
          "base_uri": "https://localhost:8080/",
          "height": 697
        },
        "outputId": "2d1e48ef-0eb1-484b-d2ab-d0b009dadad5"
      },
      "source": [
        "search_data = [\"corona\"]\n",
        "list_of_tweets = []\n",
        "if len(search_data) == 1:\n",
        "  # cursor will scrolling data for you\n",
        "  for i in tweepy.Cursor(storage_api_connect.search,q= search_data[0]+\" -filter:retweets\",lang = 'en',result_time='recent').items(40):\n",
        "    analyze= TextBlob(i.text)\n",
        "    count = 0\n",
        "    coun = 0\n",
        "    if (analyze.sentiment.polarity > 0.):\n",
        "      print(\"positive\")\n",
        "      count ++\n",
        "    else:\n",
        "      print(\"negative\")\n",
        "      coun ++\n",
        "    #print(analyze.sentiment)\n",
        "    #print(tweetdata.text) "
      ],
      "execution_count": 6,
      "outputs": [
        {
          "output_type": "stream",
          "text": [
            "negative\n",
            "negative\n",
            "negative\n",
            "negative\n",
            "negative\n",
            "positive\n",
            "positive\n",
            "negative\n",
            "negative\n",
            "negative\n",
            "negative\n",
            "negative\n",
            "negative\n",
            "negative\n",
            "negative\n",
            "positive\n",
            "negative\n",
            "negative\n",
            "positive\n",
            "negative\n",
            "negative\n",
            "negative\n",
            "negative\n",
            "negative\n",
            "negative\n",
            "negative\n",
            "negative\n",
            "negative\n",
            "negative\n",
            "negative\n",
            "negative\n",
            "positive\n",
            "negative\n",
            "negative\n",
            "negative\n",
            "negative\n",
            "negative\n",
            "negative\n",
            "negative\n",
            "negative\n"
          ],
          "name": "stdout"
        }
      ]
    },
    {
      "cell_type": "code",
      "metadata": {
        "id": "ZXK5ZZ3hFHyK",
        "colab_type": "code",
        "colab": {}
      },
      "source": [
        ""
      ],
      "execution_count": 0,
      "outputs": []
    }
  ]
}